{
  "cells": [
    {
      "cell_type": "markdown",
      "metadata": {
        "id": "view-in-github",
        "colab_type": "text"
      },
      "source": [
        "<a href=\"https://colab.research.google.com/github/fathima-shabnam/Udemy-Data-Courses/blob/main/Udemy_courses_API.ipynb\" target=\"_parent\"><img src=\"https://colab.research.google.com/assets/colab-badge.svg\" alt=\"Open In Colab\"/></a>"
      ]
    },
    {
      "cell_type": "markdown",
      "metadata": {
        "id": "ntK99eJxeFec"
      },
      "source": [
        "# **Udemy data collection using udemy API**\n"
      ]
    },
    {
      "cell_type": "markdown",
      "metadata": {
        "id": "ohuBnOUygqzO"
      },
      "source": [
        "# **Objective**\n",
        "\n",
        "Objective of this project is to collect data from udemy courses related to \"data\" and anayze and visualize the dataset.\n",
        "\n",
        "This project includes 2 steps\n",
        "*   Data collection using Udemy API\n",
        "*   Analysis and visualization in Tableau\n"
      ]
    },
    {
      "cell_type": "code",
      "execution_count": 1,
      "metadata": {
        "id": "RVk5kLsJyIg2"
      },
      "outputs": [],
      "source": [
        "import pandas as pd\n",
        "import requests\n",
        "from requests.auth import HTTPBasicAuth\n",
        "import json\n",
        "import warnings\n",
        "warnings.filterwarnings(\"ignore\")"
      ]
    },
    {
      "cell_type": "markdown",
      "metadata": {
        "id": "p22sz-w4hdRd"
      },
      "source": [
        "## Authenication for API\n",
        "\n",
        "Request for API ClientID and Client Secret from Udemy from below link <br>\n",
        "https://www.udemy.com/user/edit-api-clients/\n",
        "\n",
        "Substitute ClientID and ClientSerect in the below code\n"
      ]
    },
    {
      "cell_type": "code",
      "execution_count": 2,
      "metadata": {
        "id": "DyzznOM07eQP"
      },
      "outputs": [],
      "source": [
        "auth_ = HTTPBasicAuth('drWYq6jonLQZhiPuwH0GLMbc0GYtBRhYdC30elgv', \n",
        "                      '8w0OH1yLgByZL2UhDN5DTlNbPBsJaVo15eryAqWqSoKacdmTGx5MKbWHYKsZr8x8rQm2OvFQFNjljT33SFn70kxcTFpO3wFxvuHLv4RMQbx6A43tF5RPPNsM7ay7fTeD')"
      ]
    },
    {
      "cell_type": "markdown",
      "metadata": {
        "id": "4WK21dSGiJlH"
      },
      "source": [
        "## Data Retrieval using API\n",
        "\n",
        "Documentation for API is the below link <br>\n",
        "https://www.udemy.com/developers/affiliate/\n",
        "\n",
        "Date of collection - 19th December 2022"
      ]
    },
    {
      "cell_type": "code",
      "execution_count": 3,
      "metadata": {
        "id": "FWeWJYEsOvg8"
      },
      "outputs": [],
      "source": [
        "# retrive courses from every page until the next variable in the response is null\n",
        "url_ = \"https://www.udemy.com/api-2.0/courses/?fields[course]=@all&page=1&search=data\"\n",
        "response = requests.get(url = url_,auth=auth_)\n",
        "course_details_all = pd.json_normalize(json.loads(response.text)['results'])\n",
        "more_pages = True\n",
        "while more_pages:\n",
        "    if json.loads(response.text)['next']  is None:\n",
        "        more_pages = False\n",
        "    else :\n",
        "          url_ = json.loads(response.text)['next']\n",
        "          response = requests.get(url = url_,auth=auth_)\n",
        "          course_details_all = course_details_all.append(pd.json_normalize(json.loads(response.text)['results']))"
      ]
    },
    {
      "cell_type": "code",
      "execution_count": 4,
      "metadata": {
        "colab": {
          "base_uri": "https://localhost:8080/"
        },
        "id": "YJMqKxhtsGMc",
        "outputId": "5000303d-c525-4c64-9406-057dac014e2f"
      },
      "outputs": [
        {
          "output_type": "execute_result",
          "data": {
            "text/plain": [
              "(10000, 287)"
            ]
          },
          "metadata": {},
          "execution_count": 4
        }
      ],
      "source": [
        "course_details_all.shape"
      ]
    },
    {
      "cell_type": "markdown",
      "source": [
        "## Selecting columns needed for analysis"
      ],
      "metadata": {
        "id": "jlyJ_WCRCxD_"
      }
    },
    {
      "cell_type": "code",
      "execution_count": 5,
      "metadata": {
        "id": "NWYofk70_iC5"
      },
      "outputs": [],
      "source": [
        "# keep only columns relavant for analysis\n",
        "course_details_df = course_details_all[['_class','rating','num_practice_tests','type_label','discount.campaign.end_time','id','num_reviews',\n",
        "           'num_published_practice_tests','published_time','discount.campaign.start_time','title','num_reviews_recent',\n",
        "           'status_label','content_length_video','discount.code','is_paid','rating_distribution','has_certificate',\n",
        "           'num_coding_exercises','primary_category.title_cleaned','price','num_quizzes','has_closed_caption',\n",
        "           'num_assignments','primary_subcategory.title_cleaned','visible_instructors','num_lectures','created',\n",
        "           'has_sufficient_preview_length','context_info.label.display_name','is_practice_test_course','num_published_lectures'\n",
        "           ,'discount.price.amount','published_title','num_published_quizzes',\n",
        "           'discount.list_price.amount','num_subscribers','num_curriculum_items',\n",
        "           'discount.list_price.currency','avg_rating_recent','num_of_published_curriculum_objects','faq','discount.campaign.code','instructional_level_simple' ]]"
      ]
    },
    {
      "cell_type": "markdown",
      "source": [
        "## Adding additional columns"
      ],
      "metadata": {
        "id": "3KCYGxgiCtvo"
      }
    },
    {
      "cell_type": "code",
      "execution_count": 6,
      "metadata": {
        "id": "pPTsbmJcqtkT"
      },
      "outputs": [],
      "source": [
        "# Add some additional columns\n",
        "course_details_df['instructor_count'] = course_details_df['visible_instructors'].apply(lambda x: 0 if x is None else len(x))\n",
        "course_details_df['rating_1'] = course_details_df['rating_distribution'].apply(lambda x: x[0]['count'] )\n",
        "course_details_df['rating_2'] = course_details_df['rating_distribution'].apply(lambda x: x[1]['count'] )\n",
        "course_details_df['rating_3'] = course_details_df['rating_distribution'].apply(lambda x: x[2]['count'] )\n",
        "course_details_df['rating_4'] = course_details_df['rating_distribution'].apply(lambda x: x[3]['count'] )\n",
        "course_details_df['rating_5'] = course_details_df['rating_distribution'].apply(lambda x: x[4]['count'] )"
      ]
    },
    {
      "cell_type": "code",
      "execution_count": 9,
      "metadata": {
        "id": "VFLZSiMztq-l"
      },
      "outputs": [],
      "source": [
        "#saving file \n",
        "course_details_df.to_csv(\"udemy_data_courses.csv\",index = False)"
      ]
    },
    {
      "cell_type": "markdown",
      "source": [
        "## Next Steps\n",
        "\n",
        "Analysis and Visualization on Tableau"
      ],
      "metadata": {
        "id": "9Sf90qM3C1K-"
      }
    }
  ],
  "metadata": {
    "colab": {
      "provenance": [],
      "authorship_tag": "ABX9TyNm/a0jFeEnLqANGMMBtdHq",
      "include_colab_link": true
    },
    "kernelspec": {
      "display_name": "Python 3",
      "name": "python3"
    },
    "language_info": {
      "name": "python"
    }
  },
  "nbformat": 4,
  "nbformat_minor": 0
}